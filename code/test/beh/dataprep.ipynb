{
 "cells": [
  {
   "cell_type": "code",
   "execution_count": null,
   "id": "cb072695-d633-4edb-b4e5-9937fc4fc3ec",
   "metadata": {},
   "outputs": [],
   "source": [
    "# holy shit it actually worked"
   ]
  },
  {
   "cell_type": "code",
   "execution_count": 1,
   "id": "512e4608-4e10-4fd1-a43f-2b31c79fd8bb",
   "metadata": {},
   "outputs": [],
   "source": [
    "import os \n",
    "import sys\n",
    "import pandas as pd\n",
    "import numpy as np"
   ]
  },
  {
   "cell_type": "code",
   "execution_count": null,
   "id": "77bf3818-f654-4c53-8d22-6e458ae36fe1",
   "metadata": {},
   "outputs": [],
   "source": [
    "# function for per subject holistic data calculation by domain and with specifics\n"
   ]
  }
 ],
 "metadata": {
  "kernelspec": {
   "display_name": "Python 3 (ipykernel)",
   "language": "python",
   "name": "python3"
  },
  "language_info": {
   "codemirror_mode": {
    "name": "ipython",
    "version": 3
   },
   "file_extension": ".py",
   "mimetype": "text/x-python",
   "name": "python",
   "nbconvert_exporter": "python",
   "pygments_lexer": "ipython3",
   "version": "3.13.1"
  }
 },
 "nbformat": 4,
 "nbformat_minor": 5
}
